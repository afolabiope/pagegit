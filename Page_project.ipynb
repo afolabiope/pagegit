{
  "nbformat": 4,
  "nbformat_minor": 0,
  "metadata": {
    "colab": {
      "provenance": [],
      "authorship_tag": "ABX9TyNcH2ivgIlUZ0GIlEqBfMpg",
      "include_colab_link": true
    },
    "kernelspec": {
      "name": "python3",
      "display_name": "Python 3"
    },
    "language_info": {
      "name": "python"
    }
  },
  "cells": [
    {
      "cell_type": "markdown",
      "metadata": {
        "id": "view-in-github",
        "colab_type": "text"
      },
      "source": [
        "<a href=\"https://colab.research.google.com/github/afolabiope/pagegit/blob/main/Page_project.ipynb\" target=\"_parent\"><img src=\"https://colab.research.google.com/assets/colab-badge.svg\" alt=\"Open In Colab\"/></a>"
      ]
    },
    {
      "cell_type": "code",
      "execution_count": 1,
      "metadata": {
        "id": "GuHR48cNbr06"
      },
      "outputs": [],
      "source": [
        "def get_data(\n",
        "        ticker,\n",
        "        start_date_str,\n",
        "        end_date_str,\n",
        "        multiplier,\n",
        "        timeframe,\n",
        "        trading_hours='RTH',\n",
        "        interval_days=5):\n",
        "        try:\n",
        "            client = RESTClient(api_key='jWRu6HJz1LvzFczTFH4WRaaayBtAo6FG')\n",
        "            ticker = ticker.upper()\n",
        "\n",
        "            start_date = datetime.strptime(start_date_str, \"%Y-%m-%d\")\n",
        "            end_date = datetime.strptime(end_date_str, \"%Y-%m-%d\")\n",
        "\n",
        "            aggs = []\n",
        "            for a in client.list_aggs(\n",
        "                ticker=ticker,\n",
        "                multiplier=multiplier,\n",
        "                timespan=timeframe,\n",
        "                from_=start_date.strftime(\"%Y-%m-%d\"),\n",
        "                to=end_date.strftime(\"%Y-%m-%d\"),\n",
        "                limit=50000,\n",
        "            ):\n",
        "                aggs.append(a)\n",
        "\n",
        "            for agg in aggs:\n",
        "                timestamp_ms = agg.timestamp\n",
        "                timestamp_seconds = timestamp_ms / 1000\n",
        "                date_object = datetime.utcfromtimestamp(timestamp_seconds) - timedelta(hours=5)\n",
        "                formatted_date = date_object.strftime('%Y-%m-%d %H:%M:%S')\n",
        "                agg.timestamp = formatted_date\n",
        "\n",
        "            data = []\n",
        "            for agg in aggs:\n",
        "                data.append({\n",
        "                    'open': agg.open,\n",
        "                    'high': agg.high,\n",
        "                    'low': agg.low,\n",
        "                    'close': agg.close,\n",
        "                    'volume': agg.volume,\n",
        "                    'vwap': agg.vwap,\n",
        "                    'timestamp': agg.timestamp,\n",
        "                    'transactions': agg.transactions,\n",
        "                    'otc': agg.otc\n",
        "                })\n",
        "\n",
        "            df = pd.DataFrame(data)\n",
        "            df['timestamp'] = pd.to_datetime(df['timestamp'])\n",
        "\n",
        "            us_eastern = pytz.timezone('US/Eastern')\n",
        "\n",
        "            def is_dst(dt):\n",
        "                dst_start = datetime(dt.year, 3, 8)\n",
        "                dst_end = datetime(dt.year, 11, 1)\n",
        "                dst_start += timedelta(days=(6 - dst_start.weekday()) % 7)\n",
        "                dst_end += timedelta(days=(6 - dst_end.weekday()) % 7)\n",
        "                dst_start = us_eastern.localize(dst_start)\n",
        "                dst_end = us_eastern.localize(dst_end)\n",
        "                dt = dt.astimezone(us_eastern)\n",
        "                return dst_start <= dt < dst_end\n",
        "\n",
        "            df['timestamp'] = pd.to_datetime(df['timestamp']).dt.tz_localize(us_eastern)\n",
        "            df['timestamp'] = df['timestamp'].apply(lambda x: x + timedelta(hours=1) if is_dst(x) else x)\n",
        "\n",
        "            if trading_hours == 'RTH':\n",
        "                rth_start_time = pd.to_datetime(\"09:30:00\").time()\n",
        "                rth_end_time = pd.to_datetime(\"15:59:59\").time()\n",
        "\n",
        "                df = df[(df['timestamp'].dt.time >= rth_start_time) & (df['timestamp'].dt.time <= rth_end_time)]\n",
        "\n",
        "                df = df.reset_index(drop=True)\n",
        "\n",
        "            df['timestamp'] = pd.to_datetime(df['timestamp']).dt.tz_convert(us_eastern).dt.tz_localize(None)\n",
        "\n",
        "            result_dict = df.to_dict(orient='list')\n",
        "            # print(\"result_dict\", result_dict)\n",
        "            return result_dict\n",
        "\n",
        "        except Exception as e:\n",
        "            # Log the error for debugging\n",
        "            print(f\"Error in get_data: {e}\")\n",
        "            # Provide a user-friendly error message in the response\n",
        "            return {\"error\": \"An unexpected error occurred while fetching data.\"}\n"
      ]
    },
    {
      "cell_type": "code",
      "source": [
        "!pip install polygon-api-client==1.13.4"
      ],
      "metadata": {
        "colab": {
          "base_uri": "https://localhost:8080/"
        },
        "id": "aqXtHfdvbytH",
        "outputId": "a4529e8a-e8d4-4aa4-ae66-82e721c8ec26"
      },
      "execution_count": 1,
      "outputs": [
        {
          "output_type": "stream",
          "name": "stdout",
          "text": [
            "Requirement already satisfied: polygon-api-client==1.13.4 in /usr/local/lib/python3.10/dist-packages (1.13.4)\n",
            "Requirement already satisfied: certifi<2024.0.0,>=2022.5.18 in /usr/local/lib/python3.10/dist-packages (from polygon-api-client==1.13.4) (2023.11.17)\n",
            "Requirement already satisfied: urllib3<2.0.0,>=1.26.9 in /usr/local/lib/python3.10/dist-packages (from polygon-api-client==1.13.4) (1.26.18)\n",
            "Requirement already satisfied: websockets<13.0,>=10.3 in /usr/local/lib/python3.10/dist-packages (from polygon-api-client==1.13.4) (12.0)\n"
          ]
        }
      ]
    },
    {
      "cell_type": "code",
      "source": [
        "from polygon import RESTClient"
      ],
      "metadata": {
        "id": "X2LiDQ5gbz8J"
      },
      "execution_count": 2,
      "outputs": []
    },
    {
      "cell_type": "code",
      "source": [],
      "metadata": {
        "id": "0BZ-Dv32b0dP"
      },
      "execution_count": null,
      "outputs": []
    },
    {
      "cell_type": "code",
      "source": [],
      "metadata": {
        "id": "So2F-OkZb1Dc"
      },
      "execution_count": null,
      "outputs": []
    },
    {
      "cell_type": "code",
      "source": [],
      "metadata": {
        "id": "BTwE_eg4b1lM"
      },
      "execution_count": null,
      "outputs": []
    }
  ]
}